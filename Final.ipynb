{
 "cells": [
  {
   "cell_type": "markdown",
   "metadata": {},
   "source": [
    "# Telecom Provider\n",
    "\n",
    "The telecom operator Interconnect would like to be able to forecast their churn of clients. If it's discovered that a user is planning to leave, they will be offered promotional codes and special plan options. Interconnect's marketing team has collected some of their clientele's personal data, including information about their plans and contracts. <br/>\n",
    "The contract information is valid as of February 1, 2020."
   ]
  },
  {
   "cell_type": "code",
   "execution_count": 1,
   "metadata": {},
   "outputs": [],
   "source": [
    "import pandas as pd #import packages\n",
    "import numpy as np\n",
    "import matplotlib.pyplot as plt\n",
    "import seaborn as sns\n",
    "from scipy import stats as st\n",
    "from sklearn.linear_model import LinearRegression, LogisticRegression\n",
    "from sklearn.model_selection import train_test_split\n",
    "from sklearn.metrics import roc_auc_score, accuracy_score\n",
    "from sklearn.ensemble import GradientBoostingClassifier, RandomForestClassifier\n",
    "from sklearn.tree import DecisionTreeClassifier, DecisionTreeRegressor\n",
    "from catboost import Pool, CatBoostClassifier\n",
    "from sklearn.model_selection import cross_val_score\n",
    "import lightgbm as lgb\n",
    "from sklearn.utils import shuffle\n",
    "from sklearn.decomposition import PCA"
   ]
  },
  {
   "cell_type": "markdown",
   "metadata": {},
   "source": [
    "## Exploratory data analysis"
   ]
  },
  {
   "cell_type": "code",
   "execution_count": 2,
   "metadata": {},
   "outputs": [],
   "source": [
    "contract = pd.read_csv('contract.csv', index_col=['customerID']) #read files as dataframes\n",
    "internet = pd.read_csv('internet.csv',index_col=['customerID'])\n",
    "personal = pd.read_csv('personal.csv',index_col=['customerID'])\n",
    "phone = pd.read_csv('phone.csv', index_col=['customerID'])"
   ]
  },
  {
   "cell_type": "markdown",
   "metadata": {},
   "source": [
    "### General Info"
   ]
  },
  {
   "cell_type": "code",
   "execution_count": 3,
   "metadata": {},
   "outputs": [
    {
     "name": "stdout",
     "output_type": "stream",
     "text": [
      "<class 'pandas.core.frame.DataFrame'>\n",
      "Index: 7043 entries, 7590-VHVEG to 3186-AJIEK\n",
      "Data columns (total 7 columns):\n",
      "BeginDate           7043 non-null object\n",
      "EndDate             7043 non-null object\n",
      "Type                7043 non-null object\n",
      "PaperlessBilling    7043 non-null object\n",
      "PaymentMethod       7043 non-null object\n",
      "MonthlyCharges      7043 non-null float64\n",
      "TotalCharges        7043 non-null object\n",
      "dtypes: float64(1), object(6)\n",
      "memory usage: 440.2+ KB\n"
     ]
    }
   ],
   "source": [
    "contract.info() #first look at the data, types, column names, number of observations"
   ]
  },
  {
   "cell_type": "code",
   "execution_count": 4,
   "metadata": {},
   "outputs": [
    {
     "data": {
      "text/html": [
       "<div>\n",
       "<style scoped>\n",
       "    .dataframe tbody tr th:only-of-type {\n",
       "        vertical-align: middle;\n",
       "    }\n",
       "\n",
       "    .dataframe tbody tr th {\n",
       "        vertical-align: top;\n",
       "    }\n",
       "\n",
       "    .dataframe thead th {\n",
       "        text-align: right;\n",
       "    }\n",
       "</style>\n",
       "<table border=\"1\" class=\"dataframe\">\n",
       "  <thead>\n",
       "    <tr style=\"text-align: right;\">\n",
       "      <th></th>\n",
       "      <th>BeginDate</th>\n",
       "      <th>EndDate</th>\n",
       "      <th>Type</th>\n",
       "      <th>PaperlessBilling</th>\n",
       "      <th>PaymentMethod</th>\n",
       "      <th>MonthlyCharges</th>\n",
       "      <th>TotalCharges</th>\n",
       "    </tr>\n",
       "    <tr>\n",
       "      <th>customerID</th>\n",
       "      <th></th>\n",
       "      <th></th>\n",
       "      <th></th>\n",
       "      <th></th>\n",
       "      <th></th>\n",
       "      <th></th>\n",
       "      <th></th>\n",
       "    </tr>\n",
       "  </thead>\n",
       "  <tbody>\n",
       "    <tr>\n",
       "      <th>1641-RQDAY</th>\n",
       "      <td>2017-06-01</td>\n",
       "      <td>No</td>\n",
       "      <td>Month-to-month</td>\n",
       "      <td>Yes</td>\n",
       "      <td>Electronic check</td>\n",
       "      <td>100.40</td>\n",
       "      <td>3217.65</td>\n",
       "    </tr>\n",
       "    <tr>\n",
       "      <th>8612-GXIDD</th>\n",
       "      <td>2019-02-01</td>\n",
       "      <td>No</td>\n",
       "      <td>Two year</td>\n",
       "      <td>Yes</td>\n",
       "      <td>Bank transfer (automatic)</td>\n",
       "      <td>25.40</td>\n",
       "      <td>313</td>\n",
       "    </tr>\n",
       "    <tr>\n",
       "      <th>0505-SPOOW</th>\n",
       "      <td>2014-04-01</td>\n",
       "      <td>No</td>\n",
       "      <td>Two year</td>\n",
       "      <td>No</td>\n",
       "      <td>Bank transfer (automatic)</td>\n",
       "      <td>19.80</td>\n",
       "      <td>1397.65</td>\n",
       "    </tr>\n",
       "    <tr>\n",
       "      <th>3099-OONVS</th>\n",
       "      <td>2018-01-01</td>\n",
       "      <td>No</td>\n",
       "      <td>Month-to-month</td>\n",
       "      <td>No</td>\n",
       "      <td>Electronic check</td>\n",
       "      <td>54.30</td>\n",
       "      <td>1296.8</td>\n",
       "    </tr>\n",
       "    <tr>\n",
       "      <th>9867-JCZSP</th>\n",
       "      <td>2018-09-01</td>\n",
       "      <td>No</td>\n",
       "      <td>One year</td>\n",
       "      <td>No</td>\n",
       "      <td>Mailed check</td>\n",
       "      <td>20.75</td>\n",
       "      <td>418.25</td>\n",
       "    </tr>\n",
       "  </tbody>\n",
       "</table>\n",
       "</div>"
      ],
      "text/plain": [
       "             BeginDate EndDate            Type PaperlessBilling  \\\n",
       "customerID                                                        \n",
       "1641-RQDAY  2017-06-01      No  Month-to-month              Yes   \n",
       "8612-GXIDD  2019-02-01      No        Two year              Yes   \n",
       "0505-SPOOW  2014-04-01      No        Two year               No   \n",
       "3099-OONVS  2018-01-01      No  Month-to-month               No   \n",
       "9867-JCZSP  2018-09-01      No        One year               No   \n",
       "\n",
       "                        PaymentMethod  MonthlyCharges TotalCharges  \n",
       "customerID                                                          \n",
       "1641-RQDAY           Electronic check          100.40      3217.65  \n",
       "8612-GXIDD  Bank transfer (automatic)           25.40          313  \n",
       "0505-SPOOW  Bank transfer (automatic)           19.80      1397.65  \n",
       "3099-OONVS           Electronic check           54.30       1296.8  \n",
       "9867-JCZSP               Mailed check           20.75       418.25  "
      ]
     },
     "execution_count": 4,
     "metadata": {},
     "output_type": "execute_result"
    }
   ],
   "source": [
    "contract.sample(5) #sample to see the values"
   ]
  },
  {
   "cell_type": "code",
   "execution_count": 5,
   "metadata": {},
   "outputs": [
    {
     "name": "stdout",
     "output_type": "stream",
     "text": [
      "<class 'pandas.core.frame.DataFrame'>\n",
      "Index: 5517 entries, 7590-VHVEG to 3186-AJIEK\n",
      "Data columns (total 7 columns):\n",
      "InternetService     5517 non-null object\n",
      "OnlineSecurity      5517 non-null object\n",
      "OnlineBackup        5517 non-null object\n",
      "DeviceProtection    5517 non-null object\n",
      "TechSupport         5517 non-null object\n",
      "StreamingTV         5517 non-null object\n",
      "StreamingMovies     5517 non-null object\n",
      "dtypes: object(7)\n",
      "memory usage: 344.8+ KB\n"
     ]
    }
   ],
   "source": [
    "internet.info() #same for internet table"
   ]
  },
  {
   "cell_type": "code",
   "execution_count": 6,
   "metadata": {},
   "outputs": [
    {
     "data": {
      "text/html": [
       "<div>\n",
       "<style scoped>\n",
       "    .dataframe tbody tr th:only-of-type {\n",
       "        vertical-align: middle;\n",
       "    }\n",
       "\n",
       "    .dataframe tbody tr th {\n",
       "        vertical-align: top;\n",
       "    }\n",
       "\n",
       "    .dataframe thead th {\n",
       "        text-align: right;\n",
       "    }\n",
       "</style>\n",
       "<table border=\"1\" class=\"dataframe\">\n",
       "  <thead>\n",
       "    <tr style=\"text-align: right;\">\n",
       "      <th></th>\n",
       "      <th>InternetService</th>\n",
       "      <th>OnlineSecurity</th>\n",
       "      <th>OnlineBackup</th>\n",
       "      <th>DeviceProtection</th>\n",
       "      <th>TechSupport</th>\n",
       "      <th>StreamingTV</th>\n",
       "      <th>StreamingMovies</th>\n",
       "    </tr>\n",
       "  </thead>\n",
       "  <tbody>\n",
       "    <tr>\n",
       "      <th>count</th>\n",
       "      <td>5517</td>\n",
       "      <td>5517</td>\n",
       "      <td>5517</td>\n",
       "      <td>5517</td>\n",
       "      <td>5517</td>\n",
       "      <td>5517</td>\n",
       "      <td>5517</td>\n",
       "    </tr>\n",
       "    <tr>\n",
       "      <th>unique</th>\n",
       "      <td>2</td>\n",
       "      <td>2</td>\n",
       "      <td>2</td>\n",
       "      <td>2</td>\n",
       "      <td>2</td>\n",
       "      <td>2</td>\n",
       "      <td>2</td>\n",
       "    </tr>\n",
       "    <tr>\n",
       "      <th>top</th>\n",
       "      <td>Fiber optic</td>\n",
       "      <td>No</td>\n",
       "      <td>No</td>\n",
       "      <td>No</td>\n",
       "      <td>No</td>\n",
       "      <td>No</td>\n",
       "      <td>No</td>\n",
       "    </tr>\n",
       "    <tr>\n",
       "      <th>freq</th>\n",
       "      <td>3096</td>\n",
       "      <td>3498</td>\n",
       "      <td>3088</td>\n",
       "      <td>3095</td>\n",
       "      <td>3473</td>\n",
       "      <td>2810</td>\n",
       "      <td>2785</td>\n",
       "    </tr>\n",
       "  </tbody>\n",
       "</table>\n",
       "</div>"
      ],
      "text/plain": [
       "       InternetService OnlineSecurity OnlineBackup DeviceProtection  \\\n",
       "count             5517           5517         5517             5517   \n",
       "unique               2              2            2                2   \n",
       "top        Fiber optic             No           No               No   \n",
       "freq              3096           3498         3088             3095   \n",
       "\n",
       "       TechSupport StreamingTV StreamingMovies  \n",
       "count         5517        5517            5517  \n",
       "unique           2           2               2  \n",
       "top             No          No              No  \n",
       "freq          3473        2810            2785  "
      ]
     },
     "execution_count": 6,
     "metadata": {},
     "output_type": "execute_result"
    }
   ],
   "source": [
    "internet.describe()"
   ]
  },
  {
   "cell_type": "code",
   "execution_count": 7,
   "metadata": {},
   "outputs": [
    {
     "data": {
      "text/html": [
       "<div>\n",
       "<style scoped>\n",
       "    .dataframe tbody tr th:only-of-type {\n",
       "        vertical-align: middle;\n",
       "    }\n",
       "\n",
       "    .dataframe tbody tr th {\n",
       "        vertical-align: top;\n",
       "    }\n",
       "\n",
       "    .dataframe thead th {\n",
       "        text-align: right;\n",
       "    }\n",
       "</style>\n",
       "<table border=\"1\" class=\"dataframe\">\n",
       "  <thead>\n",
       "    <tr style=\"text-align: right;\">\n",
       "      <th></th>\n",
       "      <th>gender</th>\n",
       "      <th>Partner</th>\n",
       "      <th>Dependents</th>\n",
       "    </tr>\n",
       "  </thead>\n",
       "  <tbody>\n",
       "    <tr>\n",
       "      <th>count</th>\n",
       "      <td>7043</td>\n",
       "      <td>7043</td>\n",
       "      <td>7043</td>\n",
       "    </tr>\n",
       "    <tr>\n",
       "      <th>unique</th>\n",
       "      <td>2</td>\n",
       "      <td>2</td>\n",
       "      <td>2</td>\n",
       "    </tr>\n",
       "    <tr>\n",
       "      <th>top</th>\n",
       "      <td>Male</td>\n",
       "      <td>No</td>\n",
       "      <td>No</td>\n",
       "    </tr>\n",
       "    <tr>\n",
       "      <th>freq</th>\n",
       "      <td>3555</td>\n",
       "      <td>3641</td>\n",
       "      <td>4933</td>\n",
       "    </tr>\n",
       "  </tbody>\n",
       "</table>\n",
       "</div>"
      ],
      "text/plain": [
       "       gender Partner Dependents\n",
       "count    7043    7043       7043\n",
       "unique      2       2          2\n",
       "top      Male      No         No\n",
       "freq     3555    3641       4933"
      ]
     },
     "execution_count": 7,
     "metadata": {},
     "output_type": "execute_result"
    }
   ],
   "source": [
    "personal.describe(include='object')"
   ]
  },
  {
   "cell_type": "code",
   "execution_count": 8,
   "metadata": {},
   "outputs": [
    {
     "data": {
      "text/html": [
       "<div>\n",
       "<style scoped>\n",
       "    .dataframe tbody tr th:only-of-type {\n",
       "        vertical-align: middle;\n",
       "    }\n",
       "\n",
       "    .dataframe tbody tr th {\n",
       "        vertical-align: top;\n",
       "    }\n",
       "\n",
       "    .dataframe thead th {\n",
       "        text-align: right;\n",
       "    }\n",
       "</style>\n",
       "<table border=\"1\" class=\"dataframe\">\n",
       "  <thead>\n",
       "    <tr style=\"text-align: right;\">\n",
       "      <th></th>\n",
       "      <th>MultipleLines</th>\n",
       "    </tr>\n",
       "  </thead>\n",
       "  <tbody>\n",
       "    <tr>\n",
       "      <th>count</th>\n",
       "      <td>6361</td>\n",
       "    </tr>\n",
       "    <tr>\n",
       "      <th>unique</th>\n",
       "      <td>2</td>\n",
       "    </tr>\n",
       "    <tr>\n",
       "      <th>top</th>\n",
       "      <td>No</td>\n",
       "    </tr>\n",
       "    <tr>\n",
       "      <th>freq</th>\n",
       "      <td>3390</td>\n",
       "    </tr>\n",
       "  </tbody>\n",
       "</table>\n",
       "</div>"
      ],
      "text/plain": [
       "       MultipleLines\n",
       "count           6361\n",
       "unique             2\n",
       "top               No\n",
       "freq            3390"
      ]
     },
     "execution_count": 8,
     "metadata": {},
     "output_type": "execute_result"
    }
   ],
   "source": [
    "phone.describe()"
   ]
  },
  {
   "cell_type": "code",
   "execution_count": 9,
   "metadata": {},
   "outputs": [
    {
     "data": {
      "text/plain": [
       "count     7043\n",
       "unique       5\n",
       "top         No\n",
       "freq      5174\n",
       "Name: EndDate, dtype: object"
      ]
     },
     "execution_count": 9,
     "metadata": {},
     "output_type": "execute_result"
    }
   ],
   "source": [
    "contract['EndDate'].describe() #what this column contains?"
   ]
  },
  {
   "cell_type": "code",
   "execution_count": 10,
   "metadata": {},
   "outputs": [
    {
     "data": {
      "text/html": [
       "<div>\n",
       "<style scoped>\n",
       "    .dataframe tbody tr th:only-of-type {\n",
       "        vertical-align: middle;\n",
       "    }\n",
       "\n",
       "    .dataframe tbody tr th {\n",
       "        vertical-align: top;\n",
       "    }\n",
       "\n",
       "    .dataframe thead th {\n",
       "        text-align: right;\n",
       "    }\n",
       "</style>\n",
       "<table border=\"1\" class=\"dataframe\">\n",
       "  <thead>\n",
       "    <tr style=\"text-align: right;\">\n",
       "      <th></th>\n",
       "      <th>BeginDate</th>\n",
       "      <th>Type</th>\n",
       "      <th>PaperlessBilling</th>\n",
       "      <th>PaymentMethod</th>\n",
       "      <th>MonthlyCharges</th>\n",
       "      <th>TotalCharges</th>\n",
       "    </tr>\n",
       "    <tr>\n",
       "      <th>EndDate</th>\n",
       "      <th></th>\n",
       "      <th></th>\n",
       "      <th></th>\n",
       "      <th></th>\n",
       "      <th></th>\n",
       "      <th></th>\n",
       "    </tr>\n",
       "  </thead>\n",
       "  <tbody>\n",
       "    <tr>\n",
       "      <th>2019-10-01 00:00:00</th>\n",
       "      <td>458</td>\n",
       "      <td>458</td>\n",
       "      <td>458</td>\n",
       "      <td>458</td>\n",
       "      <td>458</td>\n",
       "      <td>458</td>\n",
       "    </tr>\n",
       "    <tr>\n",
       "      <th>2019-11-01 00:00:00</th>\n",
       "      <td>485</td>\n",
       "      <td>485</td>\n",
       "      <td>485</td>\n",
       "      <td>485</td>\n",
       "      <td>485</td>\n",
       "      <td>485</td>\n",
       "    </tr>\n",
       "    <tr>\n",
       "      <th>2019-12-01 00:00:00</th>\n",
       "      <td>466</td>\n",
       "      <td>466</td>\n",
       "      <td>466</td>\n",
       "      <td>466</td>\n",
       "      <td>466</td>\n",
       "      <td>466</td>\n",
       "    </tr>\n",
       "    <tr>\n",
       "      <th>2020-01-01 00:00:00</th>\n",
       "      <td>460</td>\n",
       "      <td>460</td>\n",
       "      <td>460</td>\n",
       "      <td>460</td>\n",
       "      <td>460</td>\n",
       "      <td>460</td>\n",
       "    </tr>\n",
       "    <tr>\n",
       "      <th>No</th>\n",
       "      <td>5174</td>\n",
       "      <td>5174</td>\n",
       "      <td>5174</td>\n",
       "      <td>5174</td>\n",
       "      <td>5174</td>\n",
       "      <td>5174</td>\n",
       "    </tr>\n",
       "  </tbody>\n",
       "</table>\n",
       "</div>"
      ],
      "text/plain": [
       "                     BeginDate  Type  PaperlessBilling  PaymentMethod  \\\n",
       "EndDate                                                                 \n",
       "2019-10-01 00:00:00        458   458               458            458   \n",
       "2019-11-01 00:00:00        485   485               485            485   \n",
       "2019-12-01 00:00:00        466   466               466            466   \n",
       "2020-01-01 00:00:00        460   460               460            460   \n",
       "No                        5174  5174              5174           5174   \n",
       "\n",
       "                     MonthlyCharges  TotalCharges  \n",
       "EndDate                                            \n",
       "2019-10-01 00:00:00             458           458  \n",
       "2019-11-01 00:00:00             485           485  \n",
       "2019-12-01 00:00:00             466           466  \n",
       "2020-01-01 00:00:00             460           460  \n",
       "No                             5174          5174  "
      ]
     },
     "execution_count": 10,
     "metadata": {},
     "output_type": "execute_result"
    }
   ],
   "source": [
    "contract.groupby('EndDate').count() #what values are there? how do they split?"
   ]
  },
  {
   "cell_type": "code",
   "execution_count": 11,
   "metadata": {},
   "outputs": [
    {
     "data": {
      "text/plain": [
       "0.7346301292063041"
      ]
     },
     "execution_count": 11,
     "metadata": {},
     "output_type": "execute_result"
    }
   ],
   "source": [
    "# the average monthly charge for who left is higher! interesting...\n",
    "len(contract[contract['EndDate']=='No'])/len(contract) #precentage of customers who left."
   ]
  },
  {
   "cell_type": "code",
   "execution_count": 12,
   "metadata": {},
   "outputs": [
    {
     "data": {
      "text/plain": [
       "customerID\n",
       "5709-LVOEQ           \n",
       "3213-VVOLG           \n",
       "2520-SGTTA           \n",
       "3115-CZMZD           \n",
       "2923-ARZLG           \n",
       "7644-OMVMY           \n",
       "2775-SEFEE           \n",
       "4075-WKNIU           \n",
       "1371-DWPAZ           \n",
       "4472-LVYGI           \n",
       "4367-NUYAO           \n",
       "6180-YBIQI      100.2\n",
       "3178-FESZO     100.25\n",
       "2587-YNLES     100.35\n",
       "7802-EFKNY      100.4\n",
       "7216-EWTRS      100.8\n",
       "4719-UMSIY      100.9\n",
       "8104-OSKWT     1001.2\n",
       "7009-PCARS     1001.5\n",
       "6705-LNMDD    1003.05\n",
       "Name: TotalCharges, dtype: object"
      ]
     },
     "execution_count": 12,
     "metadata": {},
     "output_type": "execute_result"
    }
   ],
   "source": [
    "contract['TotalCharges'].sort_values().head(20) #checking why this column is not numeric"
   ]
  },
  {
   "cell_type": "markdown",
   "metadata": {},
   "source": [
    "## Missing values"
   ]
  },
  {
   "cell_type": "code",
   "execution_count": 13,
   "metadata": {},
   "outputs": [
    {
     "data": {
      "text/html": [
       "<div>\n",
       "<style scoped>\n",
       "    .dataframe tbody tr th:only-of-type {\n",
       "        vertical-align: middle;\n",
       "    }\n",
       "\n",
       "    .dataframe tbody tr th {\n",
       "        vertical-align: top;\n",
       "    }\n",
       "\n",
       "    .dataframe thead th {\n",
       "        text-align: right;\n",
       "    }\n",
       "</style>\n",
       "<table border=\"1\" class=\"dataframe\">\n",
       "  <thead>\n",
       "    <tr style=\"text-align: right;\">\n",
       "      <th></th>\n",
       "      <th>BeginDate</th>\n",
       "      <th>EndDate</th>\n",
       "      <th>Type</th>\n",
       "      <th>PaperlessBilling</th>\n",
       "      <th>PaymentMethod</th>\n",
       "      <th>MonthlyCharges</th>\n",
       "      <th>TotalCharges</th>\n",
       "    </tr>\n",
       "    <tr>\n",
       "      <th>customerID</th>\n",
       "      <th></th>\n",
       "      <th></th>\n",
       "      <th></th>\n",
       "      <th></th>\n",
       "      <th></th>\n",
       "      <th></th>\n",
       "      <th></th>\n",
       "    </tr>\n",
       "  </thead>\n",
       "  <tbody>\n",
       "    <tr>\n",
       "      <th>4472-LVYGI</th>\n",
       "      <td>2020-02-01</td>\n",
       "      <td>No</td>\n",
       "      <td>Two year</td>\n",
       "      <td>Yes</td>\n",
       "      <td>Bank transfer (automatic)</td>\n",
       "      <td>52.55</td>\n",
       "      <td></td>\n",
       "    </tr>\n",
       "    <tr>\n",
       "      <th>3115-CZMZD</th>\n",
       "      <td>2020-02-01</td>\n",
       "      <td>No</td>\n",
       "      <td>Two year</td>\n",
       "      <td>No</td>\n",
       "      <td>Mailed check</td>\n",
       "      <td>20.25</td>\n",
       "      <td></td>\n",
       "    </tr>\n",
       "    <tr>\n",
       "      <th>5709-LVOEQ</th>\n",
       "      <td>2020-02-01</td>\n",
       "      <td>No</td>\n",
       "      <td>Two year</td>\n",
       "      <td>No</td>\n",
       "      <td>Mailed check</td>\n",
       "      <td>80.85</td>\n",
       "      <td></td>\n",
       "    </tr>\n",
       "    <tr>\n",
       "      <th>4367-NUYAO</th>\n",
       "      <td>2020-02-01</td>\n",
       "      <td>No</td>\n",
       "      <td>Two year</td>\n",
       "      <td>No</td>\n",
       "      <td>Mailed check</td>\n",
       "      <td>25.75</td>\n",
       "      <td></td>\n",
       "    </tr>\n",
       "    <tr>\n",
       "      <th>1371-DWPAZ</th>\n",
       "      <td>2020-02-01</td>\n",
       "      <td>No</td>\n",
       "      <td>Two year</td>\n",
       "      <td>No</td>\n",
       "      <td>Credit card (automatic)</td>\n",
       "      <td>56.05</td>\n",
       "      <td></td>\n",
       "    </tr>\n",
       "    <tr>\n",
       "      <th>7644-OMVMY</th>\n",
       "      <td>2020-02-01</td>\n",
       "      <td>No</td>\n",
       "      <td>Two year</td>\n",
       "      <td>No</td>\n",
       "      <td>Mailed check</td>\n",
       "      <td>19.85</td>\n",
       "      <td></td>\n",
       "    </tr>\n",
       "    <tr>\n",
       "      <th>3213-VVOLG</th>\n",
       "      <td>2020-02-01</td>\n",
       "      <td>No</td>\n",
       "      <td>Two year</td>\n",
       "      <td>No</td>\n",
       "      <td>Mailed check</td>\n",
       "      <td>25.35</td>\n",
       "      <td></td>\n",
       "    </tr>\n",
       "    <tr>\n",
       "      <th>2520-SGTTA</th>\n",
       "      <td>2020-02-01</td>\n",
       "      <td>No</td>\n",
       "      <td>Two year</td>\n",
       "      <td>No</td>\n",
       "      <td>Mailed check</td>\n",
       "      <td>20.00</td>\n",
       "      <td></td>\n",
       "    </tr>\n",
       "    <tr>\n",
       "      <th>2923-ARZLG</th>\n",
       "      <td>2020-02-01</td>\n",
       "      <td>No</td>\n",
       "      <td>One year</td>\n",
       "      <td>Yes</td>\n",
       "      <td>Mailed check</td>\n",
       "      <td>19.70</td>\n",
       "      <td></td>\n",
       "    </tr>\n",
       "    <tr>\n",
       "      <th>4075-WKNIU</th>\n",
       "      <td>2020-02-01</td>\n",
       "      <td>No</td>\n",
       "      <td>Two year</td>\n",
       "      <td>No</td>\n",
       "      <td>Mailed check</td>\n",
       "      <td>73.35</td>\n",
       "      <td></td>\n",
       "    </tr>\n",
       "    <tr>\n",
       "      <th>2775-SEFEE</th>\n",
       "      <td>2020-02-01</td>\n",
       "      <td>No</td>\n",
       "      <td>Two year</td>\n",
       "      <td>Yes</td>\n",
       "      <td>Bank transfer (automatic)</td>\n",
       "      <td>61.90</td>\n",
       "      <td></td>\n",
       "    </tr>\n",
       "  </tbody>\n",
       "</table>\n",
       "</div>"
      ],
      "text/plain": [
       "             BeginDate EndDate      Type PaperlessBilling  \\\n",
       "customerID                                                  \n",
       "4472-LVYGI  2020-02-01      No  Two year              Yes   \n",
       "3115-CZMZD  2020-02-01      No  Two year               No   \n",
       "5709-LVOEQ  2020-02-01      No  Two year               No   \n",
       "4367-NUYAO  2020-02-01      No  Two year               No   \n",
       "1371-DWPAZ  2020-02-01      No  Two year               No   \n",
       "7644-OMVMY  2020-02-01      No  Two year               No   \n",
       "3213-VVOLG  2020-02-01      No  Two year               No   \n",
       "2520-SGTTA  2020-02-01      No  Two year               No   \n",
       "2923-ARZLG  2020-02-01      No  One year              Yes   \n",
       "4075-WKNIU  2020-02-01      No  Two year               No   \n",
       "2775-SEFEE  2020-02-01      No  Two year              Yes   \n",
       "\n",
       "                        PaymentMethod  MonthlyCharges TotalCharges  \n",
       "customerID                                                          \n",
       "4472-LVYGI  Bank transfer (automatic)           52.55               \n",
       "3115-CZMZD               Mailed check           20.25               \n",
       "5709-LVOEQ               Mailed check           80.85               \n",
       "4367-NUYAO               Mailed check           25.75               \n",
       "1371-DWPAZ    Credit card (automatic)           56.05               \n",
       "7644-OMVMY               Mailed check           19.85               \n",
       "3213-VVOLG               Mailed check           25.35               \n",
       "2520-SGTTA               Mailed check           20.00               \n",
       "2923-ARZLG               Mailed check           19.70               \n",
       "4075-WKNIU               Mailed check           73.35               \n",
       "2775-SEFEE  Bank transfer (automatic)           61.90               "
      ]
     },
     "execution_count": 13,
     "metadata": {},
     "output_type": "execute_result"
    }
   ],
   "source": [
    "contract[contract['TotalCharges']==' '] # checking the empty total cherge variables"
   ]
  },
  {
   "cell_type": "code",
   "execution_count": 14,
   "metadata": {},
   "outputs": [],
   "source": [
    "#All of them just started on the 1-2-20 so we can delete them because they dont have any additional information.\n",
    "contract = contract[contract['TotalCharges']!=' ']\n",
    "contract['TotalCharges'] = contract['TotalCharges'].astype('float')\n",
    "contract['left'] = contract['EndDate'].apply(lambda x: 0 if x=='No' else 1) # target column\n",
    "contract['BeginDate'] = pd.to_datetime(contract['BeginDate']) #changing the type\n",
    "contract['duration'] = pd.to_numeric(pd.to_datetime(contract['EndDate'].apply(\n",
    "    lambda x: '2020-02-01' if x=='No' else x)) - contract['BeginDate']) #duration od the subscrition"
   ]
  },
  {
   "cell_type": "markdown",
   "metadata": {},
   "source": [
    "## Contract Dataset"
   ]
  },
  {
   "cell_type": "code",
   "execution_count": 15,
   "metadata": {
    "scrolled": true
   },
   "outputs": [
    {
     "data": {
      "text/plain": [
       "MonthlyCharges                           0.192858\n",
       "TotalCharges                            -0.199484\n",
       "duration                                -0.354496\n",
       "Type_One year                           -0.178225\n",
       "Type_Two year                           -0.301552\n",
       "PaperlessBilling_Yes                     0.191454\n",
       "PaymentMethod_Credit card (automatic)   -0.134687\n",
       "PaymentMethod_Electronic check           0.301455\n",
       "PaymentMethod_Mailed check              -0.090773\n",
       "dtype: float64"
      ]
     },
     "execution_count": 15,
     "metadata": {},
     "output_type": "execute_result"
    }
   ],
   "source": [
    "pd.get_dummies(contract.drop(['EndDate','BeginDate','left'], axis=1), drop_first=True).corrwith(contract['left']) #correlations"
   ]
  },
  {
   "cell_type": "code",
   "execution_count": 16,
   "metadata": {
    "scrolled": true
   },
   "outputs": [
    {
     "data": {
      "text/html": [
       "<div>\n",
       "<style scoped>\n",
       "    .dataframe tbody tr th:only-of-type {\n",
       "        vertical-align: middle;\n",
       "    }\n",
       "\n",
       "    .dataframe tbody tr th {\n",
       "        vertical-align: top;\n",
       "    }\n",
       "\n",
       "    .dataframe thead th {\n",
       "        text-align: right;\n",
       "    }\n",
       "</style>\n",
       "<table border=\"1\" class=\"dataframe\">\n",
       "  <thead>\n",
       "    <tr style=\"text-align: right;\">\n",
       "      <th></th>\n",
       "      <th>MonthlyCharges</th>\n",
       "      <th>TotalCharges</th>\n",
       "      <th>left</th>\n",
       "      <th>duration</th>\n",
       "      <th>Type_One year</th>\n",
       "      <th>Type_Two year</th>\n",
       "      <th>PaperlessBilling_Yes</th>\n",
       "      <th>PaymentMethod_Credit card (automatic)</th>\n",
       "      <th>PaymentMethod_Electronic check</th>\n",
       "      <th>PaymentMethod_Mailed check</th>\n",
       "    </tr>\n",
       "  </thead>\n",
       "  <tbody>\n",
       "    <tr>\n",
       "      <th>MonthlyCharges</th>\n",
       "      <td>1.000000</td>\n",
       "      <td>0.651065</td>\n",
       "      <td>0.192858</td>\n",
       "      <td>0.246715</td>\n",
       "      <td>0.004810</td>\n",
       "      <td>-0.073256</td>\n",
       "      <td>0.351930</td>\n",
       "      <td>0.030055</td>\n",
       "      <td>0.271117</td>\n",
       "      <td>-0.376568</td>\n",
       "    </tr>\n",
       "    <tr>\n",
       "      <th>TotalCharges</th>\n",
       "      <td>0.651065</td>\n",
       "      <td>1.000000</td>\n",
       "      <td>-0.199484</td>\n",
       "      <td>0.825811</td>\n",
       "      <td>0.170569</td>\n",
       "      <td>0.358036</td>\n",
       "      <td>0.157830</td>\n",
       "      <td>0.182663</td>\n",
       "      <td>-0.060436</td>\n",
       "      <td>-0.294708</td>\n",
       "    </tr>\n",
       "    <tr>\n",
       "      <th>left</th>\n",
       "      <td>0.192858</td>\n",
       "      <td>-0.199484</td>\n",
       "      <td>1.000000</td>\n",
       "      <td>-0.354496</td>\n",
       "      <td>-0.178225</td>\n",
       "      <td>-0.301552</td>\n",
       "      <td>0.191454</td>\n",
       "      <td>-0.134687</td>\n",
       "      <td>0.301455</td>\n",
       "      <td>-0.090773</td>\n",
       "    </tr>\n",
       "    <tr>\n",
       "      <th>duration</th>\n",
       "      <td>0.246715</td>\n",
       "      <td>0.825811</td>\n",
       "      <td>-0.354496</td>\n",
       "      <td>1.000000</td>\n",
       "      <td>0.202418</td>\n",
       "      <td>0.563814</td>\n",
       "      <td>0.004729</td>\n",
       "      <td>0.232827</td>\n",
       "      <td>-0.210301</td>\n",
       "      <td>-0.232083</td>\n",
       "    </tr>\n",
       "    <tr>\n",
       "      <th>Type_One year</th>\n",
       "      <td>0.004810</td>\n",
       "      <td>0.170569</td>\n",
       "      <td>-0.178225</td>\n",
       "      <td>0.202418</td>\n",
       "      <td>1.000000</td>\n",
       "      <td>-0.288843</td>\n",
       "      <td>-0.052278</td>\n",
       "      <td>0.067590</td>\n",
       "      <td>-0.109546</td>\n",
       "      <td>0.000197</td>\n",
       "    </tr>\n",
       "    <tr>\n",
       "      <th>Type_Two year</th>\n",
       "      <td>-0.073256</td>\n",
       "      <td>0.358036</td>\n",
       "      <td>-0.301552</td>\n",
       "      <td>0.563814</td>\n",
       "      <td>-0.288843</td>\n",
       "      <td>1.000000</td>\n",
       "      <td>-0.146281</td>\n",
       "      <td>0.174410</td>\n",
       "      <td>-0.281147</td>\n",
       "      <td>-0.007423</td>\n",
       "    </tr>\n",
       "    <tr>\n",
       "      <th>PaperlessBilling_Yes</th>\n",
       "      <td>0.351930</td>\n",
       "      <td>0.157830</td>\n",
       "      <td>0.191454</td>\n",
       "      <td>0.004729</td>\n",
       "      <td>-0.052278</td>\n",
       "      <td>-0.146281</td>\n",
       "      <td>1.000000</td>\n",
       "      <td>-0.013726</td>\n",
       "      <td>0.208427</td>\n",
       "      <td>-0.203981</td>\n",
       "    </tr>\n",
       "    <tr>\n",
       "      <th>PaymentMethod_Credit card (automatic)</th>\n",
       "      <td>0.030055</td>\n",
       "      <td>0.182663</td>\n",
       "      <td>-0.134687</td>\n",
       "      <td>0.232827</td>\n",
       "      <td>0.067590</td>\n",
       "      <td>0.174410</td>\n",
       "      <td>-0.013726</td>\n",
       "      <td>1.000000</td>\n",
       "      <td>-0.373978</td>\n",
       "      <td>-0.285583</td>\n",
       "    </tr>\n",
       "    <tr>\n",
       "      <th>PaymentMethod_Electronic check</th>\n",
       "      <td>0.271117</td>\n",
       "      <td>-0.060436</td>\n",
       "      <td>0.301455</td>\n",
       "      <td>-0.210301</td>\n",
       "      <td>-0.109546</td>\n",
       "      <td>-0.281147</td>\n",
       "      <td>0.208427</td>\n",
       "      <td>-0.373978</td>\n",
       "      <td>1.000000</td>\n",
       "      <td>-0.386971</td>\n",
       "    </tr>\n",
       "    <tr>\n",
       "      <th>PaymentMethod_Mailed check</th>\n",
       "      <td>-0.376568</td>\n",
       "      <td>-0.294708</td>\n",
       "      <td>-0.090773</td>\n",
       "      <td>-0.232083</td>\n",
       "      <td>0.000197</td>\n",
       "      <td>-0.007423</td>\n",
       "      <td>-0.203981</td>\n",
       "      <td>-0.285583</td>\n",
       "      <td>-0.386971</td>\n",
       "      <td>1.000000</td>\n",
       "    </tr>\n",
       "  </tbody>\n",
       "</table>\n",
       "</div>"
      ],
      "text/plain": [
       "                                       MonthlyCharges  TotalCharges      left  \\\n",
       "MonthlyCharges                               1.000000      0.651065  0.192858   \n",
       "TotalCharges                                 0.651065      1.000000 -0.199484   \n",
       "left                                         0.192858     -0.199484  1.000000   \n",
       "duration                                     0.246715      0.825811 -0.354496   \n",
       "Type_One year                                0.004810      0.170569 -0.178225   \n",
       "Type_Two year                               -0.073256      0.358036 -0.301552   \n",
       "PaperlessBilling_Yes                         0.351930      0.157830  0.191454   \n",
       "PaymentMethod_Credit card (automatic)        0.030055      0.182663 -0.134687   \n",
       "PaymentMethod_Electronic check               0.271117     -0.060436  0.301455   \n",
       "PaymentMethod_Mailed check                  -0.376568     -0.294708 -0.090773   \n",
       "\n",
       "                                       duration  Type_One year  Type_Two year  \\\n",
       "MonthlyCharges                         0.246715       0.004810      -0.073256   \n",
       "TotalCharges                           0.825811       0.170569       0.358036   \n",
       "left                                  -0.354496      -0.178225      -0.301552   \n",
       "duration                               1.000000       0.202418       0.563814   \n",
       "Type_One year                          0.202418       1.000000      -0.288843   \n",
       "Type_Two year                          0.563814      -0.288843       1.000000   \n",
       "PaperlessBilling_Yes                   0.004729      -0.052278      -0.146281   \n",
       "PaymentMethod_Credit card (automatic)  0.232827       0.067590       0.174410   \n",
       "PaymentMethod_Electronic check        -0.210301      -0.109546      -0.281147   \n",
       "PaymentMethod_Mailed check            -0.232083       0.000197      -0.007423   \n",
       "\n",
       "                                       PaperlessBilling_Yes  \\\n",
       "MonthlyCharges                                     0.351930   \n",
       "TotalCharges                                       0.157830   \n",
       "left                                               0.191454   \n",
       "duration                                           0.004729   \n",
       "Type_One year                                     -0.052278   \n",
       "Type_Two year                                     -0.146281   \n",
       "PaperlessBilling_Yes                               1.000000   \n",
       "PaymentMethod_Credit card (automatic)             -0.013726   \n",
       "PaymentMethod_Electronic check                     0.208427   \n",
       "PaymentMethod_Mailed check                        -0.203981   \n",
       "\n",
       "                                       PaymentMethod_Credit card (automatic)  \\\n",
       "MonthlyCharges                                                      0.030055   \n",
       "TotalCharges                                                        0.182663   \n",
       "left                                                               -0.134687   \n",
       "duration                                                            0.232827   \n",
       "Type_One year                                                       0.067590   \n",
       "Type_Two year                                                       0.174410   \n",
       "PaperlessBilling_Yes                                               -0.013726   \n",
       "PaymentMethod_Credit card (automatic)                               1.000000   \n",
       "PaymentMethod_Electronic check                                     -0.373978   \n",
       "PaymentMethod_Mailed check                                         -0.285583   \n",
       "\n",
       "                                       PaymentMethod_Electronic check  \\\n",
       "MonthlyCharges                                               0.271117   \n",
       "TotalCharges                                                -0.060436   \n",
       "left                                                         0.301455   \n",
       "duration                                                    -0.210301   \n",
       "Type_One year                                               -0.109546   \n",
       "Type_Two year                                               -0.281147   \n",
       "PaperlessBilling_Yes                                         0.208427   \n",
       "PaymentMethod_Credit card (automatic)                       -0.373978   \n",
       "PaymentMethod_Electronic check                               1.000000   \n",
       "PaymentMethod_Mailed check                                  -0.386971   \n",
       "\n",
       "                                       PaymentMethod_Mailed check  \n",
       "MonthlyCharges                                          -0.376568  \n",
       "TotalCharges                                            -0.294708  \n",
       "left                                                    -0.090773  \n",
       "duration                                                -0.232083  \n",
       "Type_One year                                            0.000197  \n",
       "Type_Two year                                           -0.007423  \n",
       "PaperlessBilling_Yes                                    -0.203981  \n",
       "PaymentMethod_Credit card (automatic)                   -0.285583  \n",
       "PaymentMethod_Electronic check                          -0.386971  \n",
       "PaymentMethod_Mailed check                               1.000000  "
      ]
     },
     "execution_count": 16,
     "metadata": {},
     "output_type": "execute_result"
    }
   ],
   "source": [
    "pd.get_dummies(contract.drop(['EndDate','BeginDate'], axis=1), drop_first=True).corr() #correlations"
   ]
  },
  {
   "cell_type": "markdown",
   "metadata": {},
   "source": [
    "* The is a positive correlation with the monthly charges. people that pay less are more likely to leave - maybe they supscribe for less products so they are less depend on the company. \n",
    "* Duration is also negative - as expected.\n",
    "* For the payment method - not surprising as well. "
   ]
  },
  {
   "cell_type": "code",
   "execution_count": 17,
   "metadata": {
    "scrolled": true
   },
   "outputs": [
    {
     "data": {
      "image/png": "[encoded data removed]",
      "text/plain": [
       "<Figure size 936x648 with 6 Axes>"
      ]
     },
     "metadata": {
      "needs_background": "light"
     },
     "output_type": "display_data"
    }
   ],
   "source": [
    "#### plot personal data\n",
    "fig, axes = plt.subplots(nrows=3, ncols=2, figsize=(13,9))\n",
    "ax0, ax1, ax2, ax3, ax4, ax5 = axes.flatten()\n",
    "axeses=[ax0, ax1, ax2, ax3, ax4, ax5]\n",
    "labels = ['left', 'Stay']\n",
    "for i in range(len(axeses)):\n",
    "    column = contract.drop(['EndDate','BeginDate','left'], axis=1).columns[i]\n",
    "    axeses[i].hist([contract[contract['left']==1][column],contract[contract['left']==0][column]], \n",
    "                    histtype='bar', label=labels)\n",
    "    axeses[i].set_title(column)\n",
    "    axeses[i].legend(loc='best')\n",
    "fig.tight_layout()\n",
    "plt.show()"
   ]
  },
  {
   "cell_type": "markdown",
   "metadata": {},
   "source": [
    "> **Type:** It's clear that in Month-tomonth there are much more lefts. We can split it to month-tomonth VS year or two. <br/>\n",
    "**PaperlessBiling:** It doesn't look like there is a differance here. this feature may be unnecessary. option: remove it. <br/>\n",
    "**Payment Method:** as in type - Electronic check VS else. <br/>\n",
    "**Monthly charge:** this is interesting, people who pay very little (20) leave less! but the rest is approx the same distribution. This should have a further investigation. <br/>\n",
    "**Total charges:** very similar distribution. But, if the monthly charge is differant and also duration, what does it mean?<br>\n",
    "**Duration:** from a brief look, the precentage of people who left is going smaller as they have the subscription for longer time. Not surprising, should make a graph of precentage.\n",
    "\n",
    "\n",
    "\n",
    "                                                \n"
   ]
  },
  {
   "cell_type": "code",
   "execution_count": 18,
   "metadata": {},
   "outputs": [],
   "source": [
    "contract['month-to-month'] = contract['Type'].apply(lambda x: 1 if x=='Month-to-month' else 0) # splitting the type.\n",
    "contract['electronic-check'] = contract['PaymentMethod'].apply(lambda x: 1 if x=='Electronic check' else 0) # splitting payment method"
   ]
  },
  {
   "cell_type": "code",
   "execution_count": 19,
   "metadata": {},
   "outputs": [
    {
     "name": "stdout",
     "output_type": "stream",
     "text": [
      "P-value is 3.204065548489235e-64\n",
      "There is a differance with a certaincy of alpha 1%\n"
     ]
    }
   ],
   "source": [
    "#checking if paperless billing is defferant.\n",
    "results = st.ttest_ind(contract[contract['PaperlessBilling']=='Yes']['left'] , contract[contract['PaperlessBilling']=='No']['left'], equal_var = False)\n",
    "print('P-value is', results.pvalue)\n",
    "if results.pvalue < 0.01:\n",
    "    print('There is a differance with a certaincy of alpha 1%')\n",
    "elif results.pvalue < 0.05:\n",
    "    print('There is a differance with a certaincy of alpha 5%')\n",
    "else:\n",
    "    print('There is no differance')"
   ]
  },
  {
   "cell_type": "markdown",
   "metadata": {},
   "source": [
    "## Personal Data"
   ]
  },
  {
   "cell_type": "code",
   "execution_count": 20,
   "metadata": {
    "scrolled": true
   },
   "outputs": [
    {
     "data": {
      "text/plain": [
       "SeniorCitizen     0.150541\n",
       "gender_Male      -0.008545\n",
       "Partner_Yes      -0.149982\n",
       "Dependents_Yes   -0.163128\n",
       "dtype: float64"
      ]
     },
     "execution_count": 20,
     "metadata": {},
     "output_type": "execute_result"
    }
   ],
   "source": [
    "pd.get_dummies(personal, drop_first=True).corrwith(contract['left'])"
   ]
  },
  {
   "cell_type": "code",
   "execution_count": 21,
   "metadata": {},
   "outputs": [
    {
     "data": {
      "image/png": "[encoded data removed]",
      "text/plain": [
       "<Figure size 936x648 with 4 Axes>"
      ]
     },
     "metadata": {
      "needs_background": "light"
     },
     "output_type": "display_data"
    }
   ],
   "source": [
    "#### plotting\n",
    "fig, axes = plt.subplots(nrows=2, ncols=2, figsize=(13,9))\n",
    "ax0, ax1, ax2, ax3 = axes.flatten()\n",
    "axeses=[ax0, ax1, ax2, ax3]\n",
    "labels = ['left', 'Stay']\n",
    "df = personal.join(contract['left'])\n",
    "for i in range(len(axeses)):\n",
    "    column = personal.columns[i]\n",
    "    axeses[i].hist([df[df['left']==1][column], df[df['left']==0][column]], \n",
    "                    histtype='bar', label=labels)\n",
    "    axeses[i].set_title(column)\n",
    "    axeses[i].legend(loc='best')\n",
    "fig.tight_layout()\n",
    "plt.show()"
   ]
  },
  {
   "cell_type": "markdown",
   "metadata": {},
   "source": [
    "**Gender:** No significant difference. <br/>\n",
    "**Senior:** Much less senior in general but they are leaving more. <br/>\n",
    "**Partner:** with no partner leave less. <br/>\n",
    "**Depends** much more people with no dependents.\n"
   ]
  },
  {
   "cell_type": "code",
   "execution_count": 22,
   "metadata": {},
   "outputs": [
    {
     "data": {
      "text/plain": [
       "<matplotlib.axes._subplots.AxesSubplot at 0x29c45eed518>"
      ]
     },
     "execution_count": 22,
     "metadata": {},
     "output_type": "execute_result"
    },
    {
     "data": {
      "image/png": "[encoded data removed]",
      "text/plain": [
       "<Figure size 504x1080 with 8 Axes>"
      ]
     },
     "metadata": {},
     "output_type": "display_data"
    }
   ],
   "source": [
    "plt.subplots(nrows=4, ncols=2, figsize=(7,15))\n",
    "plt.subplot(4, 2, 1)\n",
    "df[df['gender'] == 'Male']['left'].value_counts().plot(kind='pie', ax=plt.gca(), title='Male',autopct='%1.f%%')\n",
    "plt.subplot(4, 2, 2)\n",
    "df[df['gender'] == 'Female']['left'].value_counts().plot(kind='pie', ax=plt.gca(), title='Female',autopct='%1.f%%')\n",
    "plt.subplot(4, 2, 3)\n",
    "df[df['SeniorCitizen'] == 1]['left'].value_counts().plot(kind='pie', ax=plt.gca(), title='Senior',autopct='%1.f%%')\n",
    "plt.subplot(4, 2, 4)\n",
    "df[df['SeniorCitizen'] == 0]['left'].value_counts().plot(kind='pie', ax=plt.gca(), title='Not senior',autopct='%1.f%%')\n",
    "plt.subplot(4, 2, 5)\n",
    "df[df['Partner'] == 'Yes']['left'].value_counts().plot(kind='pie', ax=plt.gca(), title='Partner',autopct='%1.f%%')\n",
    "plt.subplot(4, 2, 6)\n",
    "df[df['Partner'] == 'No']['left'].value_counts().plot(kind='pie', ax=plt.gca(), title='No partner',autopct='%1.f%%')\n",
    "plt.subplot(4, 2, 7)\n",
    "df[df['Dependents'] == 'Yes']['left'].value_counts().plot(kind='pie', ax=plt.gca(), title='Dependents',autopct='%1.f%%')\n",
    "plt.subplot(4, 2, 8)\n",
    "df[df['Dependents'] == 'No']['left'].value_counts().plot(kind='pie', ax=plt.gca(), title='No Dependents',autopct='%1.f%%')"
   ]
  },
  {
   "cell_type": "markdown",
   "metadata": {},
   "source": [
    "## Phone Data"
   ]
  },
  {
   "cell_type": "code",
   "execution_count": 23,
   "metadata": {},
   "outputs": [
    {
     "data": {
      "text/plain": [
       "MultipleLines_Yes    0.040207\n",
       "dtype: float64"
      ]
     },
     "execution_count": 23,
     "metadata": {},
     "output_type": "execute_result"
    }
   ],
   "source": [
    "pd.get_dummies(phone, drop_first=True).corrwith(contract['left'])"
   ]
  },
  {
   "cell_type": "code",
   "execution_count": 24,
   "metadata": {},
   "outputs": [
    {
     "data": {
      "text/plain": [
       "<matplotlib.axes._subplots.AxesSubplot at 0x29c461f4b70>"
      ]
     },
     "execution_count": 24,
     "metadata": {},
     "output_type": "execute_result"
    },
    {
     "data": {
      "image/png": "[encoded data removed]",
      "text/plain": [
       "<Figure size 720x1080 with 2 Axes>"
      ]
     },
     "metadata": {},
     "output_type": "display_data"
    }
   ],
   "source": [
    "df=phone.join(contract['left'])\n",
    "\n",
    "plt.subplots(nrows=1, ncols=2, figsize=(10,15))\n",
    "plt.subplot(1, 2, 1)\n",
    "df[df['MultipleLines'] == 'Yes']['left'].value_counts().plot(kind='pie', ax=plt.gca(), title='MultipleLines',autopct='%1.f%%')\n",
    "plt.subplot(1, 2, 2)\n",
    "df[df['MultipleLines'] != 'Yes']['left'].value_counts().plot(kind='pie', ax=plt.gca(), title='No MultipleLines',autopct='%1.f%%')"
   ]
  },
  {
   "cell_type": "markdown",
   "metadata": {},
   "source": [
    "The correletion is low and also the difference."
   ]
  },
  {
   "cell_type": "markdown",
   "metadata": {},
   "source": [
    "## Internet Data"
   ]
  },
  {
   "cell_type": "code",
   "execution_count": 25,
   "metadata": {},
   "outputs": [
    {
     "data": {
      "text/plain": [
       "InternetService_Fiber optic    0.243811\n",
       "OnlineSecurity_Yes            -0.280508\n",
       "OnlineBackup_Yes              -0.195758\n",
       "DeviceProtection_Yes          -0.176806\n",
       "TechSupport_Yes               -0.274112\n",
       "StreamingTV_Yes               -0.036698\n",
       "StreamingMovies_Yes           -0.040525\n",
       "dtype: float64"
      ]
     },
     "execution_count": 25,
     "metadata": {},
     "output_type": "execute_result"
    }
   ],
   "source": [
    "pd.get_dummies(internet, drop_first=True).corrwith(contract['left'])"
   ]
  },
  {
   "cell_type": "code",
   "execution_count": 26,
   "metadata": {},
   "outputs": [
    {
     "data": {
      "image/png": "[encoded data removed]",
      "text/plain": [
       "<Figure size 936x648 with 6 Axes>"
      ]
     },
     "metadata": {
      "needs_background": "light"
     },
     "output_type": "display_data"
    }
   ],
   "source": [
    "#### plotting\n",
    "fig, axes = plt.subplots(nrows=3, ncols=2, figsize=(13,9))\n",
    "ax0, ax1, ax2, ax3, ax4, ax5 = axes.flatten()\n",
    "axeses=[ax0, ax1, ax2, ax3, ax4, ax5]\n",
    "labels = ['left', 'Stay']\n",
    "for i in range(len(axeses)):\n",
    "    column = internet.columns[i]\n",
    "    df = internet.join(contract['left'])\n",
    "    axeses[i].hist([df[df['left']==1][column], df[df['left']==0][column]], \n",
    "                    histtype='bar', label=labels)\n",
    "    axeses[i].set_title(column)\n",
    "    axeses[i].legend(loc='best')\n",
    "fig.tight_layout()\n",
    "plt.show()"
   ]
  },
  {
   "cell_type": "markdown",
   "metadata": {},
   "source": [
    "Clients are less likely to leave if they have additional product - this should get a further investigation (A/B testing or other) to check if they are staying because of the addtional product or more loyal clients take addtional products... <br/>\n",
    "What is the problem whith the fiber optic??"
   ]
  },
  {
   "cell_type": "markdown",
   "metadata": {},
   "source": [
    "## Differances between phone and internet subscribers."
   ]
  },
  {
   "cell_type": "code",
   "execution_count": 27,
   "metadata": {},
   "outputs": [],
   "source": [
    "#United data frame\n",
    "phone['phone'] = 1\n",
    "internet['internet'] = 1\n",
    "full = contract.join([personal, phone, internet]).drop(['BeginDate', 'EndDate','Type'], axis=1)\n",
    "full['both'] = full[(full['phone']==1) & (full['internet']==1)]['phone'] #both internet and phone\n",
    "full['phone only'] = full[(full['phone']==1) & (full['internet']!=1)]['phone'] #only phone\n",
    "full['internet only'] = full[(full['phone']!=1) & (full['internet']==1)]['internet'] #only internet\n",
    "full.fillna(0, inplace=True)"
   ]
  },
  {
   "cell_type": "code",
   "execution_count": 28,
   "metadata": {},
   "outputs": [
    {
     "data": {
      "text/html": [
       "<div>\n",
       "<style scoped>\n",
       "    .dataframe tbody tr th:only-of-type {\n",
       "        vertical-align: middle;\n",
       "    }\n",
       "\n",
       "    .dataframe tbody tr th {\n",
       "        vertical-align: top;\n",
       "    }\n",
       "\n",
       "    .dataframe thead th {\n",
       "        text-align: right;\n",
       "    }\n",
       "</style>\n",
       "<table border=\"1\" class=\"dataframe\">\n",
       "  <thead>\n",
       "    <tr style=\"text-align: right;\">\n",
       "      <th></th>\n",
       "      <th>MonthlyCharges</th>\n",
       "      <th>TotalCharges</th>\n",
       "      <th>left</th>\n",
       "      <th>duration</th>\n",
       "      <th>month-to-month</th>\n",
       "      <th>electronic-check</th>\n",
       "      <th>SeniorCitizen</th>\n",
       "      <th>phone</th>\n",
       "      <th>internet</th>\n",
       "      <th>both</th>\n",
       "      <th>phone only</th>\n",
       "      <th>internet only</th>\n",
       "    </tr>\n",
       "  </thead>\n",
       "  <tbody>\n",
       "    <tr>\n",
       "      <th>count</th>\n",
       "      <td>7032.000000</td>\n",
       "      <td>7032.000000</td>\n",
       "      <td>7032.000000</td>\n",
       "      <td>7.032000e+03</td>\n",
       "      <td>7032.000000</td>\n",
       "      <td>7032.000000</td>\n",
       "      <td>7032.000000</td>\n",
       "      <td>7032.000000</td>\n",
       "      <td>7032.000000</td>\n",
       "      <td>7032.000000</td>\n",
       "      <td>7032.000000</td>\n",
       "      <td>7032.000000</td>\n",
       "    </tr>\n",
       "    <tr>\n",
       "      <th>mean</th>\n",
       "      <td>64.798208</td>\n",
       "      <td>2283.300441</td>\n",
       "      <td>0.265785</td>\n",
       "      <td>8.532333e+16</td>\n",
       "      <td>0.551052</td>\n",
       "      <td>0.336320</td>\n",
       "      <td>0.162400</td>\n",
       "      <td>0.903299</td>\n",
       "      <td>0.783845</td>\n",
       "      <td>0.687144</td>\n",
       "      <td>0.216155</td>\n",
       "      <td>0.096701</td>\n",
       "    </tr>\n",
       "    <tr>\n",
       "      <th>std</th>\n",
       "      <td>30.085974</td>\n",
       "      <td>2266.771362</td>\n",
       "      <td>0.441782</td>\n",
       "      <td>6.455408e+16</td>\n",
       "      <td>0.497422</td>\n",
       "      <td>0.472483</td>\n",
       "      <td>0.368844</td>\n",
       "      <td>0.295571</td>\n",
       "      <td>0.411650</td>\n",
       "      <td>0.463689</td>\n",
       "      <td>0.411650</td>\n",
       "      <td>0.295571</td>\n",
       "    </tr>\n",
       "    <tr>\n",
       "      <th>min</th>\n",
       "      <td>18.250000</td>\n",
       "      <td>18.800000</td>\n",
       "      <td>0.000000</td>\n",
       "      <td>2.592000e+15</td>\n",
       "      <td>0.000000</td>\n",
       "      <td>0.000000</td>\n",
       "      <td>0.000000</td>\n",
       "      <td>0.000000</td>\n",
       "      <td>0.000000</td>\n",
       "      <td>0.000000</td>\n",
       "      <td>0.000000</td>\n",
       "      <td>0.000000</td>\n",
       "    </tr>\n",
       "    <tr>\n",
       "      <th>25%</th>\n",
       "      <td>35.587500</td>\n",
       "      <td>401.450000</td>\n",
       "      <td>0.000000</td>\n",
       "      <td>2.376000e+16</td>\n",
       "      <td>0.000000</td>\n",
       "      <td>0.000000</td>\n",
       "      <td>0.000000</td>\n",
       "      <td>1.000000</td>\n",
       "      <td>1.000000</td>\n",
       "      <td>0.000000</td>\n",
       "      <td>0.000000</td>\n",
       "      <td>0.000000</td>\n",
       "    </tr>\n",
       "    <tr>\n",
       "      <th>50%</th>\n",
       "      <td>70.350000</td>\n",
       "      <td>1397.475000</td>\n",
       "      <td>0.000000</td>\n",
       "      <td>7.629120e+16</td>\n",
       "      <td>1.000000</td>\n",
       "      <td>0.000000</td>\n",
       "      <td>0.000000</td>\n",
       "      <td>1.000000</td>\n",
       "      <td>1.000000</td>\n",
       "      <td>1.000000</td>\n",
       "      <td>0.000000</td>\n",
       "      <td>0.000000</td>\n",
       "    </tr>\n",
       "    <tr>\n",
       "      <th>75%</th>\n",
       "      <td>89.862500</td>\n",
       "      <td>3794.737500</td>\n",
       "      <td>1.000000</td>\n",
       "      <td>1.448064e+17</td>\n",
       "      <td>1.000000</td>\n",
       "      <td>1.000000</td>\n",
       "      <td>0.000000</td>\n",
       "      <td>1.000000</td>\n",
       "      <td>1.000000</td>\n",
       "      <td>1.000000</td>\n",
       "      <td>0.000000</td>\n",
       "      <td>0.000000</td>\n",
       "    </tr>\n",
       "    <tr>\n",
       "      <th>max</th>\n",
       "      <td>118.750000</td>\n",
       "      <td>8684.800000</td>\n",
       "      <td>1.000000</td>\n",
       "      <td>1.893024e+17</td>\n",
       "      <td>1.000000</td>\n",
       "      <td>1.000000</td>\n",
       "      <td>1.000000</td>\n",
       "      <td>1.000000</td>\n",
       "      <td>1.000000</td>\n",
       "      <td>1.000000</td>\n",
       "      <td>1.000000</td>\n",
       "      <td>1.000000</td>\n",
       "    </tr>\n",
       "  </tbody>\n",
       "</table>\n",
       "</div>"
      ],
      "text/plain": [
       "       MonthlyCharges  TotalCharges         left      duration  \\\n",
       "count     7032.000000   7032.000000  7032.000000  7.032000e+03   \n",
       "mean        64.798208   2283.300441     0.265785  8.532333e+16   \n",
       "std         30.085974   2266.771362     0.441782  6.455408e+16   \n",
       "min         18.250000     18.800000     0.000000  2.592000e+15   \n",
       "25%         35.587500    401.450000     0.000000  2.376000e+16   \n",
       "50%         70.350000   1397.475000     0.000000  7.629120e+16   \n",
       "75%         89.862500   3794.737500     1.000000  1.448064e+17   \n",
       "max        118.750000   8684.800000     1.000000  1.893024e+17   \n",
       "\n",
       "       month-to-month  electronic-check  SeniorCitizen        phone  \\\n",
       "count     7032.000000       7032.000000    7032.000000  7032.000000   \n",
       "mean         0.551052          0.336320       0.162400     0.903299   \n",
       "std          0.497422          0.472483       0.368844     0.295571   \n",
       "min          0.000000          0.000000       0.000000     0.000000   \n",
       "25%          0.000000          0.000000       0.000000     1.000000   \n",
       "50%          1.000000          0.000000       0.000000     1.000000   \n",
       "75%          1.000000          1.000000       0.000000     1.000000   \n",
       "max          1.000000          1.000000       1.000000     1.000000   \n",
       "\n",
       "          internet         both   phone only  internet only  \n",
       "count  7032.000000  7032.000000  7032.000000    7032.000000  \n",
       "mean      0.783845     0.687144     0.216155       0.096701  \n",
       "std       0.411650     0.463689     0.411650       0.295571  \n",
       "min       0.000000     0.000000     0.000000       0.000000  \n",
       "25%       1.000000     0.000000     0.000000       0.000000  \n",
       "50%       1.000000     1.000000     0.000000       0.000000  \n",
       "75%       1.000000     1.000000     0.000000       0.000000  \n",
       "max       1.000000     1.000000     1.000000       1.000000  "
      ]
     },
     "execution_count": 28,
     "metadata": {},
     "output_type": "execute_result"
    }
   ],
   "source": [
    "full.describe()"
   ]
  },
  {
   "cell_type": "code",
   "execution_count": 29,
   "metadata": {
    "scrolled": true
   },
   "outputs": [
    {
     "data": {
      "text/plain": [
       "<matplotlib.axes._subplots.AxesSubplot at 0x29c475e0d30>"
      ]
     },
     "execution_count": 29,
     "metadata": {},
     "output_type": "execute_result"
    },
    {
     "data": {
      "image/png": "[encoded data removed]",
      "text/plain": [
       "<Figure size 936x648 with 3 Axes>"
      ]
     },
     "metadata": {},
     "output_type": "display_data"
    }
   ],
   "source": [
    "#Pie plots of precentage of leaving in the different sectors\n",
    "plt.subplots(nrows=1, ncols=3, figsize=(13,9))\n",
    "plt.subplot(1, 3, 1)\n",
    "full[(full['phone only']==1)]['left'].value_counts().plot(kind='pie', ax=plt.gca(), title='Only phone',autopct='%1.f%%')\n",
    "plt.subplot(1, 3, 2)\n",
    "full[(full['internet only']==1)]['left'].value_counts().plot(kind='pie', ax=plt.gca(), title='Only Internet',autopct='%1.f%%')\n",
    "plt.subplot(1, 3, 3)\n",
    "full[full['both']==1]['left'].value_counts().plot(kind='pie', ax=plt.gca(), title='Both',autopct='%1.f%%')"
   ]
  },
  {
   "cell_type": "code",
   "execution_count": 30,
   "metadata": {
    "scrolled": true
   },
   "outputs": [
    {
     "data": {
      "text/plain": [
       "Text(0.5, 1.0, 'Monthly Cherges: Stayed vs Left')"
      ]
     },
     "execution_count": 30,
     "metadata": {},
     "output_type": "execute_result"
    },
    {
     "data": {
      "image/png": "[encoded data removed]",
      "text/plain": [
       "<Figure size 1008x360 with 1 Axes>"
      ]
     },
     "metadata": {
      "needs_background": "light"
     },
     "output_type": "display_data"
    }
   ],
   "source": [
    "# A dipper look in the differances in monthly charges\n",
    "fig, axes = plt.subplots(nrows=1, ncols=1, figsize=(14, 5))\n",
    "sns.distplot(contract[contract['left']==0]['MonthlyCharges'], bins=100, ax=axes, label='Stay')\n",
    "sns.distplot(contract[contract['left']==1]['MonthlyCharges'], bins=100, ax=axes, label='Left')\n",
    "axes.set_title('Monthly Cherges: Stayed vs Left')"
   ]
  },
  {
   "cell_type": "code",
   "execution_count": 31,
   "metadata": {
    "scrolled": false
   },
   "outputs": [
    {
     "data": {
      "image/png": "[encoded data removed]",
      "text/plain": [
       "<Figure size 936x648 with 1 Axes>"
      ]
     },
     "metadata": {
      "needs_background": "light"
     },
     "output_type": "display_data"
    }
   ],
   "source": [
    "#same, all together\n",
    "plt.subplots(figsize=(13,9))\n",
    "\n",
    "plt.hist([full[full['phone only']==1]['MonthlyCharges'],\n",
    "          full[full['internet only']==1]['MonthlyCharges'],\n",
    "          full[full['both']==1]['MonthlyCharges'],\n",
    "          full['MonthlyCharges']], \n",
    "         histtype='bar', label=['Phone','internet','both','All'])\n",
    "plt.title('MonthlyCharges')\n",
    "plt.legend(loc='best')\n",
    "\n",
    "fig.tight_layout()\n",
    "plt.show()"
   ]
  },
  {
   "cell_type": "markdown",
   "metadata": {},
   "source": [
    "This is the reason why people who pay around 20 are less likely to leave - they are phone users - which are are less likely to leave. let's check that."
   ]
  },
  {
   "cell_type": "code",
   "execution_count": 32,
   "metadata": {
    "scrolled": false
   },
   "outputs": [
    {
     "data": {
      "image/png": "[encoded data removed]",
      "text/plain": [
       "<Figure size 936x648 with 1 Axes>"
      ]
     },
     "metadata": {
      "needs_background": "light"
     },
     "output_type": "display_data"
    }
   ],
   "source": [
    "#Distribution of monthly charge by phone/internet left/stayed\n",
    "plt.subplots(figsize=(13,9))\n",
    "\n",
    "plt.hist([full[(full['phone only']==1) & (full['left']==1)]['MonthlyCharges'],\n",
    "          full[(full['phone only']==1) & (full['left']==0)]['MonthlyCharges'],\n",
    "          full[(full['internet only']==1) & (full['left']==1)]['MonthlyCharges'],\n",
    "          full[(full['internet only']==1) & (full['left']==0)]['MonthlyCharges']], \n",
    "         histtype='bar', label=['Phone left','Phone stayed', 'internet left','internet stayed'])\n",
    "plt.title('MonthlyCharges')\n",
    "plt.legend(loc='best')\n",
    "\n",
    "fig.tight_layout()\n",
    "plt.show()"
   ]
  },
  {
   "cell_type": "markdown",
   "metadata": {},
   "source": [
    "Now, it doesn't look like there are significant differences in monthly charges between left and not."
   ]
  },
  {
   "cell_type": "markdown",
   "metadata": {},
   "source": [
    "# Creating Models"
   ]
  },
  {
   "cell_type": "code",
   "execution_count": 33,
   "metadata": {},
   "outputs": [],
   "source": [
    "full_data = pd.get_dummies(full, drop_first=True) # adjusting the dataset for modeling\n",
    "#splitting data to train and test sets\n",
    "X_train, X_test, y_train, y_test = train_test_split(full_data.drop(['left'],axis=1), full_data['left'], random_state=42)\n",
    "X_tr, X_val, y_tr, y_val = train_test_split(X_train, y_train, random_state=42)"
   ]
  },
  {
   "cell_type": "code",
   "execution_count": 34,
   "metadata": {},
   "outputs": [
    {
     "name": "stdout",
     "output_type": "stream",
     "text": [
      "ROC AUC 0.74\n",
      "Accuracy 0.74\n"
     ]
    }
   ],
   "source": [
    "#linear classifier\n",
    "lr = LogisticRegression(solver='liblinear', random_state=12345)\n",
    "lr.fit(X_train, y_train)\n",
    "print('ROC AUC', '{:.2f}'.format(roc_auc_score(y_test, lr.predict_proba(X_test)[:,1])))\n",
    "print('Accuracy', '{:.2f}'.format(accuracy_score(y_test, lr.predict(X_test))))"
   ]
  },
  {
   "cell_type": "code",
   "execution_count": 35,
   "metadata": {},
   "outputs": [
    {
     "name": "stdout",
     "output_type": "stream",
     "text": [
      "ROC AUC 0.87\n",
      "Accuracy 0.84\n"
     ]
    }
   ],
   "source": [
    "#Gradient boost\n",
    "gbc = GradientBoostingClassifier()\n",
    "gbc.fit(X_train,y_train)\n",
    "print('ROC AUC', '{:.2f}'.format(roc_auc_score(y_test, gbc.predict_proba(X_test)[:,1])))\n",
    "print('Accuracy', '{:.2f}'.format(accuracy_score(y_test, gbc.predict(X_test))))"
   ]
  },
  {
   "cell_type": "markdown",
   "metadata": {},
   "source": [
    "We saw before that the data is imbalnced, let's try to upsample it."
   ]
  },
  {
   "cell_type": "code",
   "execution_count": 36,
   "metadata": {},
   "outputs": [],
   "source": [
    "def upsample(features, target, repeat): #upsampling function for 1s\n",
    "    #splitting the data to 0 and 1:\n",
    "    features_zeros = features[target == 0]\n",
    "    features_ones = features[target == 1]\n",
    "    target_zeros = target[target == 0]\n",
    "    target_ones = target[target == 1]\n",
    "    \n",
    "    #multiply the 1s and concatenate\n",
    "    features_upsampled = pd.concat([features_zeros] + [features_ones] * repeat)\n",
    "    target_upsampled = pd.concat([target_zeros] + [target_ones] * repeat)\n",
    "    \n",
    "    features_upsampled, target_upsampled = shuffle(\n",
    "        features_upsampled, target_upsampled, random_state=12345) #adding randomization by shuffling\n",
    "    \n",
    "    return features_upsampled, target_upsampled"
   ]
  },
  {
   "cell_type": "code",
   "execution_count": 37,
   "metadata": {},
   "outputs": [
    {
     "data": {
      "text/plain": [
       "0.522850790513834"
      ]
     },
     "execution_count": 37,
     "metadata": {},
     "output_type": "execute_result"
    }
   ],
   "source": [
    "#upsample the trainning set. and checking the new balance\n",
    "X_upsampled, y_upsampled = upsample(X_train, y_train, 3)\n",
    "y_upsampled.mean()"
   ]
  },
  {
   "cell_type": "code",
   "execution_count": 38,
   "metadata": {},
   "outputs": [
    {
     "name": "stdout",
     "output_type": "stream",
     "text": [
      "ROC AUC 0.74\n",
      "Accuracy 0.74\n"
     ]
    }
   ],
   "source": [
    "#linear classifier with upsampling\n",
    "lr = LogisticRegression(solver='liblinear', random_state=12345)\n",
    "lr.fit(X_upsampled, y_upsampled)\n",
    "print('ROC AUC', '{:.2f}'.format(roc_auc_score(y_test, lr.predict_proba(X_test)[:,1])))\n",
    "print('Accuracy', '{:.2f}'.format(accuracy_score(y_test, lr.predict(X_test))))"
   ]
  },
  {
   "cell_type": "code",
   "execution_count": 39,
   "metadata": {},
   "outputs": [
    {
     "name": "stdout",
     "output_type": "stream",
     "text": [
      "ROC AUC 0.87\n",
      "Accuracy 0.77\n"
     ]
    }
   ],
   "source": [
    "#Gradient boost with upsampling\n",
    "gbc = GradientBoostingClassifier()\n",
    "gbc.fit(X_upsampled, y_upsampled)\n",
    "print('ROC AUC', '{:.2f}'.format(roc_auc_score(y_test, gbc.predict_proba(X_test)[:,1])))\n",
    "print('Accuracy', '{:.2f}'.format(accuracy_score(y_test, gbc.predict(X_test))))"
   ]
  },
  {
   "cell_type": "markdown",
   "metadata": {},
   "source": [
    "No improvement."
   ]
  },
  {
   "cell_type": "code",
   "execution_count": 40,
   "metadata": {},
   "outputs": [
    {
     "data": {
      "text/html": [
       "<div>\n",
       "<style scoped>\n",
       "    .dataframe tbody tr th:only-of-type {\n",
       "        vertical-align: middle;\n",
       "    }\n",
       "\n",
       "    .dataframe tbody tr th {\n",
       "        vertical-align: top;\n",
       "    }\n",
       "\n",
       "    .dataframe thead th {\n",
       "        text-align: right;\n",
       "    }\n",
       "</style>\n",
       "<table border=\"1\" class=\"dataframe\">\n",
       "  <thead>\n",
       "    <tr style=\"text-align: right;\">\n",
       "      <th></th>\n",
       "      <th>index</th>\n",
       "      <th>n estimators</th>\n",
       "      <th>max depth</th>\n",
       "      <th>AUC ROC</th>\n",
       "      <th>accuracy score</th>\n",
       "    </tr>\n",
       "  </thead>\n",
       "  <tbody>\n",
       "    <tr>\n",
       "      <th>0</th>\n",
       "      <td>15</td>\n",
       "      <td>50</td>\n",
       "      <td>10</td>\n",
       "      <td>0.858275</td>\n",
       "      <td>0.813495</td>\n",
       "    </tr>\n",
       "    <tr>\n",
       "      <th>1</th>\n",
       "      <td>10</td>\n",
       "      <td>40</td>\n",
       "      <td>10</td>\n",
       "      <td>0.856828</td>\n",
       "      <td>0.811979</td>\n",
       "    </tr>\n",
       "    <tr>\n",
       "      <th>2</th>\n",
       "      <td>20</td>\n",
       "      <td>60</td>\n",
       "      <td>10</td>\n",
       "      <td>0.856727</td>\n",
       "      <td>0.817286</td>\n",
       "    </tr>\n",
       "    <tr>\n",
       "      <th>3</th>\n",
       "      <td>5</td>\n",
       "      <td>30</td>\n",
       "      <td>10</td>\n",
       "      <td>0.856647</td>\n",
       "      <td>0.818802</td>\n",
       "    </tr>\n",
       "    <tr>\n",
       "      <th>4</th>\n",
       "      <td>21</td>\n",
       "      <td>60</td>\n",
       "      <td>12</td>\n",
       "      <td>0.855933</td>\n",
       "      <td>0.816528</td>\n",
       "    </tr>\n",
       "  </tbody>\n",
       "</table>\n",
       "</div>"
      ],
      "text/plain": [
       "   index  n estimators  max depth   AUC ROC  accuracy score\n",
       "0     15            50         10  0.858275        0.813495\n",
       "1     10            40         10  0.856828        0.811979\n",
       "2     20            60         10  0.856727        0.817286\n",
       "3      5            30         10  0.856647        0.818802\n",
       "4     21            60         12  0.855933        0.816528"
      ]
     },
     "execution_count": 40,
     "metadata": {},
     "output_type": "execute_result"
    }
   ],
   "source": [
    "#Now, for tuning hyperparameters, using validation set.\n",
    "RFC = [['n estimators', 'max depth', 'AUC ROC', 'accuracy score']]\n",
    "for estim in range(20, 70, 10): #Hyperparameters tuning\n",
    "    for depth in range(10, 20, 2):\n",
    "        model = RandomForestClassifier(n_estimators=estim, max_depth=depth, random_state=12345)\n",
    "        model.fit(X_tr, y_tr)\n",
    "        RFC.append([estim, depth, roc_auc_score(y_val, model.predict_proba(X_val)[:,1]), accuracy_score(y_val, model.predict(X_val))]) \n",
    "\n",
    "RFC_df = pd.DataFrame(data=RFC[1:], columns=RFC[0]).sort_values(by='AUC ROC', ascending=False).reset_index()  #Results sorted by F1 score.\n",
    "RFC_df.head()"
   ]
  },
  {
   "cell_type": "code",
   "execution_count": 41,
   "metadata": {},
   "outputs": [
    {
     "name": "stdout",
     "output_type": "stream",
     "text": [
      "ROC AUC 0.84\n",
      "Accuracy 0.81\n"
     ]
    }
   ],
   "source": [
    "#Running the model with the best hyperparameters.\n",
    "model = RandomForestClassifier(n_estimators=60, max_depth=10, random_state=12345)\n",
    "model.fit(X_train, y_train)\n",
    "print('ROC AUC', '{:.2f}'.format(roc_auc_score(y_test, model.predict_proba(X_test)[:,1])))\n",
    "print('Accuracy', '{:.2f}'.format(accuracy_score(y_test, model.predict(X_test))))"
   ]
  },
  {
   "cell_type": "code",
   "execution_count": 42,
   "metadata": {},
   "outputs": [
    {
     "name": "stdout",
     "output_type": "stream",
     "text": [
      "n_estim | leaves | ROC AUC \n",
      "200     |  150 | 0.88\n",
      "200     |  250 | 0.88\n",
      "300     |  150 | 0.88\n",
      "300     |  250 | 0.88\n"
     ]
    }
   ],
   "source": [
    "#Tuning hyperparameters for LGB using cross validation\n",
    "print('n_estim | leaves | ROC AUC ')\n",
    "for n in range(200, 400, 100):\n",
    "    for l in range(150, 350, 100):\n",
    "        model = lgb.LGBMClassifier(n_estimators=n, num_leaves=l)\n",
    "        scores = cross_val_score(model, X_train, y_train, cv=5, scoring='roc_auc')\n",
    "        print('{}     |  {} | {:,.2f}'.format(n, l, scores.mean()))"
   ]
  },
  {
   "cell_type": "code",
   "execution_count": 43,
   "metadata": {},
   "outputs": [
    {
     "name": "stdout",
     "output_type": "stream",
     "text": [
      "ROC AUC 0.89\n",
      "Accuracy 0.84\n"
     ]
    }
   ],
   "source": [
    "model = lgb.LGBMClassifier()\n",
    "model.fit(X_train, y_train)\n",
    "predictions = model.predict(X_test)\n",
    "print('ROC AUC', '{:.2f}'.format(roc_auc_score(y_test, model.predict_proba(X_test)[:,1])))\n",
    "print('Accuracy', '{:.2f}'.format(accuracy_score(y_test, model.predict(X_test))))"
   ]
  },
  {
   "cell_type": "code",
   "execution_count": 44,
   "metadata": {},
   "outputs": [
    {
     "name": "stdout",
     "output_type": "stream",
     "text": [
      "ROC AUC 0.89\n",
      "Accuracy 0.85\n"
     ]
    }
   ],
   "source": [
    "#Catboost\n",
    "model = CatBoostClassifier()\n",
    "model.fit(X_train, y_train, silent=True)\n",
    "predictions = model.predict(X_test)\n",
    "print('ROC AUC', '{:.2f}'.format(roc_auc_score(y_test, model.predict_proba(X_test)[:,1])))\n",
    "print('Accuracy', '{:.2f}'.format(accuracy_score(y_test, model.predict(X_test))))"
   ]
  },
  {
   "cell_type": "code",
   "execution_count": 45,
   "metadata": {},
   "outputs": [
    {
     "name": "stdout",
     "output_type": "stream",
     "text": [
      "1 ROC AUC 0.91\n",
      "2 ROC AUC 0.89\n",
      "3 ROC AUC 0.89\n",
      "4 ROC AUC 0.88\n",
      "5 ROC AUC 0.89\n",
      "6 ROC AUC 0.89\n",
      "7 ROC AUC 0.88\n",
      "8 ROC AUC 0.89\n",
      "9 ROC AUC 0.88\n",
      "10 ROC AUC 0.87\n",
      "11 ROC AUC 0.87\n",
      "12 ROC AUC 0.87\n",
      "13 ROC AUC 0.87\n",
      "14 ROC AUC 0.87\n",
      "15 ROC AUC 0.87\n"
     ]
    }
   ],
   "source": [
    "# Not all the components are good for the model prediction as we saw. for that we have PCA:\n",
    "for i in range(1,16):\n",
    "    pca = PCA(n_components=i, svd_solver='arpack')\n",
    "    pca.fit(X_tr, y_tr)\n",
    "    val_trans = pca.transform(X_val)\n",
    "    tr_trans = pca.transform(X_tr)\n",
    "    model = lgb.LGBMClassifier()\n",
    "    model.fit(tr_trans, y_tr)\n",
    "    print(i, 'ROC AUC', '{:.2f}'.format(roc_auc_score(y_val, model.predict_proba(val_trans)[:,1])))"
   ]
  },
  {
   "cell_type": "code",
   "execution_count": 46,
   "metadata": {},
   "outputs": [
    {
     "name": "stdout",
     "output_type": "stream",
     "text": [
      "ROC AUC 0.90\n",
      "Accuracy 0.86\n"
     ]
    }
   ],
   "source": [
    "#only 1 component is enough! \n",
    "pca = PCA(n_components=1, svd_solver='arpack')\n",
    "pca.fit(X_train, y_train)\n",
    "val_trans = pca.transform(X_test)\n",
    "tr_trans = pca.transform(X_train)\n",
    "model = lgb.LGBMClassifier()\n",
    "model.fit(tr_trans, y_train)\n",
    "\n",
    "print('ROC AUC', '{:.2f}'.format(roc_auc_score(y_test, model.predict_proba(val_trans)[:,1])))\n",
    "print('Accuracy', '{:.2f}'.format(accuracy_score(y_test, model.predict(val_trans))))"
   ]
  },
  {
   "cell_type": "code",
   "execution_count": 47,
   "metadata": {},
   "outputs": [
    {
     "name": "stdout",
     "output_type": "stream",
     "text": [
      "ROC AUC 0.90\n",
      "Accuracy 0.87\n"
     ]
    }
   ],
   "source": [
    "pca = PCA(n_components=1, svd_solver='arpack')\n",
    "pca.fit(X_train, y_train)\n",
    "val_trans = pca.transform(X_test)\n",
    "tr_trans = pca.transform(X_train)\n",
    "model = CatBoostClassifier()\n",
    "model.fit(tr_trans, y_train, silent=True)\n",
    "\n",
    "print('ROC AUC', '{:.2f}'.format(roc_auc_score(y_test, model.predict_proba(val_trans)[:,1])))\n",
    "print('Accuracy', '{:.2f}'.format(accuracy_score(y_test, model.predict(val_trans))))"
   ]
  },
  {
   "cell_type": "markdown",
   "metadata": {},
   "source": [
    "## Conclusion\n",
    "\n",
    "The Best models was Catboost, using 1 component - with 0.9 ROC AUC and accuracy of 0.87. <br/>\n",
    "\n",
    "* The PCA analysis showed that the best regression score was with only 1 component - this needs a further investigatin - there is somthing that makes customer leave, maybe it's the pricing or a bad product?\n",
    "* The company should consider different approaches to the different client sector - their behavior is different.\n",
    "* In addition, they should consider partner's discount, and other programs that are significantly more stable."
   ]
  }
 ],
 "metadata": {
  "kernelspec": {
   "display_name": "Python 3",
   "language": "python",
   "name": "python3"
  },
  "language_info": {
   "codemirror_mode": {
    "name": "ipython",
    "version": 3
   },
   "file_extension": ".py",
   "mimetype": "text/x-python",
   "name": "python",
   "nbconvert_exporter": "python",
   "pygments_lexer": "ipython3",
   "version": "3.7.3"
  }
 },
 "nbformat": 4,
 "nbformat_minor": 2
}
